{
 "cells": [
  {
   "cell_type": "markdown",
   "id": "a1b9ece7",
   "metadata": {},
   "source": [
    "# Data Analysis of  GARANTI BBVA "
   ]
  },
  {
   "cell_type": "markdown",
   "id": "021ee5bc",
   "metadata": {},
   "source": [
    "GARANTI BBVA is a bank based in Turkey. It is a most important member of the Turkish banking system.  Today, it is working with Banco Bilbao Vizcaya Argentaria (BBVA) partnership, which is the Spanish bank. In here, we analyzed stock history of GARANTI for 32 months, from 2020-02-01 to 2022-09-23. This data includes date, Open, High, Low, Close, Adj Close and Volume values. Also with this work, we analyzed income values of bank in the same dates.\n",
    "\n",
    "The Stock History data from Yandex Finance.\n",
    "\n",
    "The Income data from KAP. \n"
   ]
  },
  {
   "cell_type": "code",
   "execution_count": 22,
   "id": "bae228f0",
   "metadata": {},
   "outputs": [],
   "source": [
    "import pandas as pd\n",
    "import numpy as np\n",
    "import matplotlib.pyplot as plt\n",
    "import seaborn as sns\n",
    "from tabula import read_pdf"
   ]
  },
  {
   "cell_type": "code",
   "execution_count": 2,
   "id": "c21f4745",
   "metadata": {},
   "outputs": [],
   "source": [
    "stock_hist = pd.read_csv(\"/Users/batuhanyolver/Downloads/GARAN.IS.csv\")"
   ]
  },
  {
   "cell_type": "code",
   "execution_count": 3,
   "id": "54dc7ef3",
   "metadata": {},
   "outputs": [
    {
     "data": {
      "text/html": [
       "<div>\n",
       "<style scoped>\n",
       "    .dataframe tbody tr th:only-of-type {\n",
       "        vertical-align: middle;\n",
       "    }\n",
       "\n",
       "    .dataframe tbody tr th {\n",
       "        vertical-align: top;\n",
       "    }\n",
       "\n",
       "    .dataframe thead th {\n",
       "        text-align: right;\n",
       "    }\n",
       "</style>\n",
       "<table border=\"1\" class=\"dataframe\">\n",
       "  <thead>\n",
       "    <tr style=\"text-align: right;\">\n",
       "      <th></th>\n",
       "      <th>Date</th>\n",
       "      <th>Open</th>\n",
       "      <th>High</th>\n",
       "      <th>Low</th>\n",
       "      <th>Close</th>\n",
       "      <th>Adj Close</th>\n",
       "      <th>Volume</th>\n",
       "    </tr>\n",
       "  </thead>\n",
       "  <tbody>\n",
       "    <tr>\n",
       "      <th>0</th>\n",
       "      <td>2020-02-01</td>\n",
       "      <td>11.96</td>\n",
       "      <td>12.62</td>\n",
       "      <td>8.79</td>\n",
       "      <td>9.54</td>\n",
       "      <td>9.146201</td>\n",
       "      <td>854973062</td>\n",
       "    </tr>\n",
       "    <tr>\n",
       "      <th>1</th>\n",
       "      <td>2020-03-01</td>\n",
       "      <td>9.90</td>\n",
       "      <td>10.62</td>\n",
       "      <td>6.76</td>\n",
       "      <td>8.17</td>\n",
       "      <td>7.832754</td>\n",
       "      <td>1970202565</td>\n",
       "    </tr>\n",
       "    <tr>\n",
       "      <th>2</th>\n",
       "      <td>2020-04-01</td>\n",
       "      <td>7.99</td>\n",
       "      <td>8.94</td>\n",
       "      <td>7.47</td>\n",
       "      <td>8.33</td>\n",
       "      <td>7.986149</td>\n",
       "      <td>2538130051</td>\n",
       "    </tr>\n",
       "    <tr>\n",
       "      <th>3</th>\n",
       "      <td>2020-05-01</td>\n",
       "      <td>8.33</td>\n",
       "      <td>8.33</td>\n",
       "      <td>7.51</td>\n",
       "      <td>7.85</td>\n",
       "      <td>7.525962</td>\n",
       "      <td>2083406205</td>\n",
       "    </tr>\n",
       "    <tr>\n",
       "      <th>4</th>\n",
       "      <td>2020-06-01</td>\n",
       "      <td>7.93</td>\n",
       "      <td>8.65</td>\n",
       "      <td>7.89</td>\n",
       "      <td>8.48</td>\n",
       "      <td>8.129956</td>\n",
       "      <td>3176554221</td>\n",
       "    </tr>\n",
       "  </tbody>\n",
       "</table>\n",
       "</div>"
      ],
      "text/plain": [
       "         Date   Open   High   Low  Close  Adj Close      Volume\n",
       "0  2020-02-01  11.96  12.62  8.79   9.54   9.146201   854973062\n",
       "1  2020-03-01   9.90  10.62  6.76   8.17   7.832754  1970202565\n",
       "2  2020-04-01   7.99   8.94  7.47   8.33   7.986149  2538130051\n",
       "3  2020-05-01   8.33   8.33  7.51   7.85   7.525962  2083406205\n",
       "4  2020-06-01   7.93   8.65  7.89   8.48   8.129956  3176554221"
      ]
     },
     "execution_count": 3,
     "metadata": {},
     "output_type": "execute_result"
    }
   ],
   "source": [
    "stock_hist.head()"
   ]
  },
  {
   "cell_type": "code",
   "execution_count": 4,
   "id": "f4ea7eb2",
   "metadata": {},
   "outputs": [],
   "source": [
    "def null_check(data):\n",
    "    counter = 0\n",
    "    for x in range(0,len(data)):\n",
    "        if (True in data.iloc[x].isnull()):\n",
    "            print(data.iloc[x], \"Warning!!\")\n",
    "            counter += counter + 1\n",
    "        else:\n",
    "            pass\n",
    "                \n",
    "    if counter == 0:\n",
    "        print(\"The data do not has NaN values\")"
   ]
  },
  {
   "cell_type": "code",
   "execution_count": 5,
   "id": "cddefd05",
   "metadata": {},
   "outputs": [
    {
     "name": "stdout",
     "output_type": "stream",
     "text": [
      "The data do not has NaN values\n"
     ]
    }
   ],
   "source": [
    "null_check(stock_hist)"
   ]
  },
  {
   "cell_type": "code",
   "execution_count": 6,
   "id": "f413182e",
   "metadata": {},
   "outputs": [],
   "source": [
    "# Simple candlestick graph for Stock data"
   ]
  },
  {
   "cell_type": "code",
   "execution_count": 9,
   "id": "865882ca",
   "metadata": {},
   "outputs": [
    {
     "data": {
      "application/vnd.plotly.v1+json": {
       "config": {
        "plotlyServerURL": "https://plot.ly"
       },
       "data": [
        {
         "close": [
          9.54,
          8.17,
          8.33,
          7.85,
          8.48,
          7.02,
          6.79,
          7.1,
          6.61,
          8.77,
          10.47,
          9.31,
          8.92,
          6.69,
          7.21,
          7.99,
          8.3,
          8.52,
          9.88,
          9.24,
          9.85,
          11.42,
          11.27,
          11.91,
          11.08,
          12.2,
          14.98,
          14.55,
          13.9,
          14.52,
          23,
          18.610001,
          18.610001
         ],
         "high": [
          12.62,
          10.62,
          8.94,
          8.33,
          8.65,
          8.55,
          7.37,
          7.34,
          7.61,
          9.68,
          10.51,
          10.81,
          10.3,
          9.45,
          7.45,
          8.3,
          8.55,
          8.78,
          9.91,
          9.97,
          9.85,
          12.54,
          13.58,
          12.16,
          12.32,
          12.3,
          15.12,
          17.09,
          16.200001,
          15.84,
          27.540001,
          31.639999,
          19.43
         ],
         "low": [
          8.79,
          6.76,
          7.47,
          7.51,
          7.89,
          6.96,
          6.24,
          6.44,
          6.59,
          6.6,
          8.79,
          8.97,
          8.78,
          6.66,
          6.58,
          7.19,
          7.93,
          8.04,
          8.45,
          8.78,
          8.75,
          9.66,
          10.88,
          11.29,
          10.91,
          11.18,
          12.25,
          14.17,
          13.8,
          13.37,
          14.52,
          18.440001,
          18.610001
         ],
         "open": [
          11.96,
          9.9,
          7.99,
          8.33,
          7.93,
          8.53,
          7.02,
          6.8,
          7.16,
          6.64,
          8.91,
          10.47,
          9.4,
          9.09,
          6.74,
          7.21,
          8.03,
          8.31,
          8.56,
          9.92,
          9.17,
          9.9,
          11.5,
          11.29,
          11.96,
          11.18,
          12.3,
          14.98,
          14.62,
          13.78,
          14.52,
          23.02,
          19.16
         ],
         "type": "candlestick",
         "x": [
          "2020-02-01",
          "2020-03-01",
          "2020-04-01",
          "2020-05-01",
          "2020-06-01",
          "2020-07-01",
          "2020-08-01",
          "2020-09-01",
          "2020-10-01",
          "2020-11-01",
          "2020-12-01",
          "2021-01-01",
          "2021-02-01",
          "2021-03-01",
          "2021-04-01",
          "2021-05-01",
          "2021-06-01",
          "2021-07-01",
          "2021-08-01",
          "2021-09-01",
          "2021-10-01",
          "2021-11-01",
          "2021-12-01",
          "2022-01-01",
          "2022-02-01",
          "2022-03-01",
          "2022-04-01",
          "2022-05-01",
          "2022-06-01",
          "2022-07-01",
          "2022-08-01",
          "2022-09-01",
          "2022-09-23"
         ]
        }
       ],
       "layout": {
        "template": {
         "data": {
          "bar": [
           {
            "error_x": {
             "color": "#2a3f5f"
            },
            "error_y": {
             "color": "#2a3f5f"
            },
            "marker": {
             "line": {
              "color": "#E5ECF6",
              "width": 0.5
             },
             "pattern": {
              "fillmode": "overlay",
              "size": 10,
              "solidity": 0.2
             }
            },
            "type": "bar"
           }
          ],
          "barpolar": [
           {
            "marker": {
             "line": {
              "color": "#E5ECF6",
              "width": 0.5
             },
             "pattern": {
              "fillmode": "overlay",
              "size": 10,
              "solidity": 0.2
             }
            },
            "type": "barpolar"
           }
          ],
          "carpet": [
           {
            "aaxis": {
             "endlinecolor": "#2a3f5f",
             "gridcolor": "white",
             "linecolor": "white",
             "minorgridcolor": "white",
             "startlinecolor": "#2a3f5f"
            },
            "baxis": {
             "endlinecolor": "#2a3f5f",
             "gridcolor": "white",
             "linecolor": "white",
             "minorgridcolor": "white",
             "startlinecolor": "#2a3f5f"
            },
            "type": "carpet"
           }
          ],
          "choropleth": [
           {
            "colorbar": {
             "outlinewidth": 0,
             "ticks": ""
            },
            "type": "choropleth"
           }
          ],
          "contour": [
           {
            "colorbar": {
             "outlinewidth": 0,
             "ticks": ""
            },
            "colorscale": [
             [
              0,
              "#0d0887"
             ],
             [
              0.1111111111111111,
              "#46039f"
             ],
             [
              0.2222222222222222,
              "#7201a8"
             ],
             [
              0.3333333333333333,
              "#9c179e"
             ],
             [
              0.4444444444444444,
              "#bd3786"
             ],
             [
              0.5555555555555556,
              "#d8576b"
             ],
             [
              0.6666666666666666,
              "#ed7953"
             ],
             [
              0.7777777777777778,
              "#fb9f3a"
             ],
             [
              0.8888888888888888,
              "#fdca26"
             ],
             [
              1,
              "#f0f921"
             ]
            ],
            "type": "contour"
           }
          ],
          "contourcarpet": [
           {
            "colorbar": {
             "outlinewidth": 0,
             "ticks": ""
            },
            "type": "contourcarpet"
           }
          ],
          "heatmap": [
           {
            "colorbar": {
             "outlinewidth": 0,
             "ticks": ""
            },
            "colorscale": [
             [
              0,
              "#0d0887"
             ],
             [
              0.1111111111111111,
              "#46039f"
             ],
             [
              0.2222222222222222,
              "#7201a8"
             ],
             [
              0.3333333333333333,
              "#9c179e"
             ],
             [
              0.4444444444444444,
              "#bd3786"
             ],
             [
              0.5555555555555556,
              "#d8576b"
             ],
             [
              0.6666666666666666,
              "#ed7953"
             ],
             [
              0.7777777777777778,
              "#fb9f3a"
             ],
             [
              0.8888888888888888,
              "#fdca26"
             ],
             [
              1,
              "#f0f921"
             ]
            ],
            "type": "heatmap"
           }
          ],
          "heatmapgl": [
           {
            "colorbar": {
             "outlinewidth": 0,
             "ticks": ""
            },
            "colorscale": [
             [
              0,
              "#0d0887"
             ],
             [
              0.1111111111111111,
              "#46039f"
             ],
             [
              0.2222222222222222,
              "#7201a8"
             ],
             [
              0.3333333333333333,
              "#9c179e"
             ],
             [
              0.4444444444444444,
              "#bd3786"
             ],
             [
              0.5555555555555556,
              "#d8576b"
             ],
             [
              0.6666666666666666,
              "#ed7953"
             ],
             [
              0.7777777777777778,
              "#fb9f3a"
             ],
             [
              0.8888888888888888,
              "#fdca26"
             ],
             [
              1,
              "#f0f921"
             ]
            ],
            "type": "heatmapgl"
           }
          ],
          "histogram": [
           {
            "marker": {
             "pattern": {
              "fillmode": "overlay",
              "size": 10,
              "solidity": 0.2
             }
            },
            "type": "histogram"
           }
          ],
          "histogram2d": [
           {
            "colorbar": {
             "outlinewidth": 0,
             "ticks": ""
            },
            "colorscale": [
             [
              0,
              "#0d0887"
             ],
             [
              0.1111111111111111,
              "#46039f"
             ],
             [
              0.2222222222222222,
              "#7201a8"
             ],
             [
              0.3333333333333333,
              "#9c179e"
             ],
             [
              0.4444444444444444,
              "#bd3786"
             ],
             [
              0.5555555555555556,
              "#d8576b"
             ],
             [
              0.6666666666666666,
              "#ed7953"
             ],
             [
              0.7777777777777778,
              "#fb9f3a"
             ],
             [
              0.8888888888888888,
              "#fdca26"
             ],
             [
              1,
              "#f0f921"
             ]
            ],
            "type": "histogram2d"
           }
          ],
          "histogram2dcontour": [
           {
            "colorbar": {
             "outlinewidth": 0,
             "ticks": ""
            },
            "colorscale": [
             [
              0,
              "#0d0887"
             ],
             [
              0.1111111111111111,
              "#46039f"
             ],
             [
              0.2222222222222222,
              "#7201a8"
             ],
             [
              0.3333333333333333,
              "#9c179e"
             ],
             [
              0.4444444444444444,
              "#bd3786"
             ],
             [
              0.5555555555555556,
              "#d8576b"
             ],
             [
              0.6666666666666666,
              "#ed7953"
             ],
             [
              0.7777777777777778,
              "#fb9f3a"
             ],
             [
              0.8888888888888888,
              "#fdca26"
             ],
             [
              1,
              "#f0f921"
             ]
            ],
            "type": "histogram2dcontour"
           }
          ],
          "mesh3d": [
           {
            "colorbar": {
             "outlinewidth": 0,
             "ticks": ""
            },
            "type": "mesh3d"
           }
          ],
          "parcoords": [
           {
            "line": {
             "colorbar": {
              "outlinewidth": 0,
              "ticks": ""
             }
            },
            "type": "parcoords"
           }
          ],
          "pie": [
           {
            "automargin": true,
            "type": "pie"
           }
          ],
          "scatter": [
           {
            "marker": {
             "colorbar": {
              "outlinewidth": 0,
              "ticks": ""
             }
            },
            "type": "scatter"
           }
          ],
          "scatter3d": [
           {
            "line": {
             "colorbar": {
              "outlinewidth": 0,
              "ticks": ""
             }
            },
            "marker": {
             "colorbar": {
              "outlinewidth": 0,
              "ticks": ""
             }
            },
            "type": "scatter3d"
           }
          ],
          "scattercarpet": [
           {
            "marker": {
             "colorbar": {
              "outlinewidth": 0,
              "ticks": ""
             }
            },
            "type": "scattercarpet"
           }
          ],
          "scattergeo": [
           {
            "marker": {
             "colorbar": {
              "outlinewidth": 0,
              "ticks": ""
             }
            },
            "type": "scattergeo"
           }
          ],
          "scattergl": [
           {
            "marker": {
             "colorbar": {
              "outlinewidth": 0,
              "ticks": ""
             }
            },
            "type": "scattergl"
           }
          ],
          "scattermapbox": [
           {
            "marker": {
             "colorbar": {
              "outlinewidth": 0,
              "ticks": ""
             }
            },
            "type": "scattermapbox"
           }
          ],
          "scatterpolar": [
           {
            "marker": {
             "colorbar": {
              "outlinewidth": 0,
              "ticks": ""
             }
            },
            "type": "scatterpolar"
           }
          ],
          "scatterpolargl": [
           {
            "marker": {
             "colorbar": {
              "outlinewidth": 0,
              "ticks": ""
             }
            },
            "type": "scatterpolargl"
           }
          ],
          "scatterternary": [
           {
            "marker": {
             "colorbar": {
              "outlinewidth": 0,
              "ticks": ""
             }
            },
            "type": "scatterternary"
           }
          ],
          "surface": [
           {
            "colorbar": {
             "outlinewidth": 0,
             "ticks": ""
            },
            "colorscale": [
             [
              0,
              "#0d0887"
             ],
             [
              0.1111111111111111,
              "#46039f"
             ],
             [
              0.2222222222222222,
              "#7201a8"
             ],
             [
              0.3333333333333333,
              "#9c179e"
             ],
             [
              0.4444444444444444,
              "#bd3786"
             ],
             [
              0.5555555555555556,
              "#d8576b"
             ],
             [
              0.6666666666666666,
              "#ed7953"
             ],
             [
              0.7777777777777778,
              "#fb9f3a"
             ],
             [
              0.8888888888888888,
              "#fdca26"
             ],
             [
              1,
              "#f0f921"
             ]
            ],
            "type": "surface"
           }
          ],
          "table": [
           {
            "cells": {
             "fill": {
              "color": "#EBF0F8"
             },
             "line": {
              "color": "white"
             }
            },
            "header": {
             "fill": {
              "color": "#C8D4E3"
             },
             "line": {
              "color": "white"
             }
            },
            "type": "table"
           }
          ]
         },
         "layout": {
          "annotationdefaults": {
           "arrowcolor": "#2a3f5f",
           "arrowhead": 0,
           "arrowwidth": 1
          },
          "autotypenumbers": "strict",
          "coloraxis": {
           "colorbar": {
            "outlinewidth": 0,
            "ticks": ""
           }
          },
          "colorscale": {
           "diverging": [
            [
             0,
             "#8e0152"
            ],
            [
             0.1,
             "#c51b7d"
            ],
            [
             0.2,
             "#de77ae"
            ],
            [
             0.3,
             "#f1b6da"
            ],
            [
             0.4,
             "#fde0ef"
            ],
            [
             0.5,
             "#f7f7f7"
            ],
            [
             0.6,
             "#e6f5d0"
            ],
            [
             0.7,
             "#b8e186"
            ],
            [
             0.8,
             "#7fbc41"
            ],
            [
             0.9,
             "#4d9221"
            ],
            [
             1,
             "#276419"
            ]
           ],
           "sequential": [
            [
             0,
             "#0d0887"
            ],
            [
             0.1111111111111111,
             "#46039f"
            ],
            [
             0.2222222222222222,
             "#7201a8"
            ],
            [
             0.3333333333333333,
             "#9c179e"
            ],
            [
             0.4444444444444444,
             "#bd3786"
            ],
            [
             0.5555555555555556,
             "#d8576b"
            ],
            [
             0.6666666666666666,
             "#ed7953"
            ],
            [
             0.7777777777777778,
             "#fb9f3a"
            ],
            [
             0.8888888888888888,
             "#fdca26"
            ],
            [
             1,
             "#f0f921"
            ]
           ],
           "sequentialminus": [
            [
             0,
             "#0d0887"
            ],
            [
             0.1111111111111111,
             "#46039f"
            ],
            [
             0.2222222222222222,
             "#7201a8"
            ],
            [
             0.3333333333333333,
             "#9c179e"
            ],
            [
             0.4444444444444444,
             "#bd3786"
            ],
            [
             0.5555555555555556,
             "#d8576b"
            ],
            [
             0.6666666666666666,
             "#ed7953"
            ],
            [
             0.7777777777777778,
             "#fb9f3a"
            ],
            [
             0.8888888888888888,
             "#fdca26"
            ],
            [
             1,
             "#f0f921"
            ]
           ]
          },
          "colorway": [
           "#636efa",
           "#EF553B",
           "#00cc96",
           "#ab63fa",
           "#FFA15A",
           "#19d3f3",
           "#FF6692",
           "#B6E880",
           "#FF97FF",
           "#FECB52"
          ],
          "font": {
           "color": "#2a3f5f"
          },
          "geo": {
           "bgcolor": "white",
           "lakecolor": "white",
           "landcolor": "#E5ECF6",
           "showlakes": true,
           "showland": true,
           "subunitcolor": "white"
          },
          "hoverlabel": {
           "align": "left"
          },
          "hovermode": "closest",
          "mapbox": {
           "style": "light"
          },
          "paper_bgcolor": "white",
          "plot_bgcolor": "#E5ECF6",
          "polar": {
           "angularaxis": {
            "gridcolor": "white",
            "linecolor": "white",
            "ticks": ""
           },
           "bgcolor": "#E5ECF6",
           "radialaxis": {
            "gridcolor": "white",
            "linecolor": "white",
            "ticks": ""
           }
          },
          "scene": {
           "xaxis": {
            "backgroundcolor": "#E5ECF6",
            "gridcolor": "white",
            "gridwidth": 2,
            "linecolor": "white",
            "showbackground": true,
            "ticks": "",
            "zerolinecolor": "white"
           },
           "yaxis": {
            "backgroundcolor": "#E5ECF6",
            "gridcolor": "white",
            "gridwidth": 2,
            "linecolor": "white",
            "showbackground": true,
            "ticks": "",
            "zerolinecolor": "white"
           },
           "zaxis": {
            "backgroundcolor": "#E5ECF6",
            "gridcolor": "white",
            "gridwidth": 2,
            "linecolor": "white",
            "showbackground": true,
            "ticks": "",
            "zerolinecolor": "white"
           }
          },
          "shapedefaults": {
           "line": {
            "color": "#2a3f5f"
           }
          },
          "ternary": {
           "aaxis": {
            "gridcolor": "white",
            "linecolor": "white",
            "ticks": ""
           },
           "baxis": {
            "gridcolor": "white",
            "linecolor": "white",
            "ticks": ""
           },
           "bgcolor": "#E5ECF6",
           "caxis": {
            "gridcolor": "white",
            "linecolor": "white",
            "ticks": ""
           }
          },
          "title": {
           "x": 0.05
          },
          "xaxis": {
           "automargin": true,
           "gridcolor": "white",
           "linecolor": "white",
           "ticks": "",
           "title": {
            "standoff": 15
           },
           "zerolinecolor": "white",
           "zerolinewidth": 2
          },
          "yaxis": {
           "automargin": true,
           "gridcolor": "white",
           "linecolor": "white",
           "ticks": "",
           "title": {
            "standoff": 15
           },
           "zerolinecolor": "white",
           "zerolinewidth": 2
          }
         }
        }
       }
      },
      "text/html": [
       "<div>                            <div id=\"8fa1e93d-3a86-4c41-81a0-68c872ec9dff\" class=\"plotly-graph-div\" style=\"height:525px; width:100%;\"></div>            <script type=\"text/javascript\">                require([\"plotly\"], function(Plotly) {                    window.PLOTLYENV=window.PLOTLYENV || {};                                    if (document.getElementById(\"8fa1e93d-3a86-4c41-81a0-68c872ec9dff\")) {                    Plotly.newPlot(                        \"8fa1e93d-3a86-4c41-81a0-68c872ec9dff\",                        [{\"close\":[9.54,8.17,8.33,7.85,8.48,7.02,6.79,7.1,6.61,8.77,10.47,9.31,8.92,6.69,7.21,7.99,8.3,8.52,9.88,9.24,9.85,11.42,11.27,11.91,11.08,12.2,14.98,14.55,13.9,14.52,23.0,18.610001,18.610001],\"high\":[12.62,10.62,8.94,8.33,8.65,8.55,7.37,7.34,7.61,9.68,10.51,10.81,10.3,9.45,7.45,8.3,8.55,8.78,9.91,9.97,9.85,12.54,13.58,12.16,12.32,12.3,15.12,17.09,16.200001,15.84,27.540001,31.639999,19.43],\"low\":[8.79,6.76,7.47,7.51,7.89,6.96,6.24,6.44,6.59,6.6,8.79,8.97,8.78,6.66,6.58,7.19,7.93,8.04,8.45,8.78,8.75,9.66,10.88,11.29,10.91,11.18,12.25,14.17,13.8,13.37,14.52,18.440001,18.610001],\"open\":[11.96,9.9,7.99,8.33,7.93,8.53,7.02,6.8,7.16,6.64,8.91,10.47,9.4,9.09,6.74,7.21,8.03,8.31,8.56,9.92,9.17,9.9,11.5,11.29,11.96,11.18,12.3,14.98,14.62,13.78,14.52,23.02,19.16],\"x\":[\"2020-02-01\",\"2020-03-01\",\"2020-04-01\",\"2020-05-01\",\"2020-06-01\",\"2020-07-01\",\"2020-08-01\",\"2020-09-01\",\"2020-10-01\",\"2020-11-01\",\"2020-12-01\",\"2021-01-01\",\"2021-02-01\",\"2021-03-01\",\"2021-04-01\",\"2021-05-01\",\"2021-06-01\",\"2021-07-01\",\"2021-08-01\",\"2021-09-01\",\"2021-10-01\",\"2021-11-01\",\"2021-12-01\",\"2022-01-01\",\"2022-02-01\",\"2022-03-01\",\"2022-04-01\",\"2022-05-01\",\"2022-06-01\",\"2022-07-01\",\"2022-08-01\",\"2022-09-01\",\"2022-09-23\"],\"type\":\"candlestick\"}],                        {\"template\":{\"data\":{\"bar\":[{\"error_x\":{\"color\":\"#2a3f5f\"},\"error_y\":{\"color\":\"#2a3f5f\"},\"marker\":{\"line\":{\"color\":\"#E5ECF6\",\"width\":0.5},\"pattern\":{\"fillmode\":\"overlay\",\"size\":10,\"solidity\":0.2}},\"type\":\"bar\"}],\"barpolar\":[{\"marker\":{\"line\":{\"color\":\"#E5ECF6\",\"width\":0.5},\"pattern\":{\"fillmode\":\"overlay\",\"size\":10,\"solidity\":0.2}},\"type\":\"barpolar\"}],\"carpet\":[{\"aaxis\":{\"endlinecolor\":\"#2a3f5f\",\"gridcolor\":\"white\",\"linecolor\":\"white\",\"minorgridcolor\":\"white\",\"startlinecolor\":\"#2a3f5f\"},\"baxis\":{\"endlinecolor\":\"#2a3f5f\",\"gridcolor\":\"white\",\"linecolor\":\"white\",\"minorgridcolor\":\"white\",\"startlinecolor\":\"#2a3f5f\"},\"type\":\"carpet\"}],\"choropleth\":[{\"colorbar\":{\"outlinewidth\":0,\"ticks\":\"\"},\"type\":\"choropleth\"}],\"contour\":[{\"colorbar\":{\"outlinewidth\":0,\"ticks\":\"\"},\"colorscale\":[[0.0,\"#0d0887\"],[0.1111111111111111,\"#46039f\"],[0.2222222222222222,\"#7201a8\"],[0.3333333333333333,\"#9c179e\"],[0.4444444444444444,\"#bd3786\"],[0.5555555555555556,\"#d8576b\"],[0.6666666666666666,\"#ed7953\"],[0.7777777777777778,\"#fb9f3a\"],[0.8888888888888888,\"#fdca26\"],[1.0,\"#f0f921\"]],\"type\":\"contour\"}],\"contourcarpet\":[{\"colorbar\":{\"outlinewidth\":0,\"ticks\":\"\"},\"type\":\"contourcarpet\"}],\"heatmap\":[{\"colorbar\":{\"outlinewidth\":0,\"ticks\":\"\"},\"colorscale\":[[0.0,\"#0d0887\"],[0.1111111111111111,\"#46039f\"],[0.2222222222222222,\"#7201a8\"],[0.3333333333333333,\"#9c179e\"],[0.4444444444444444,\"#bd3786\"],[0.5555555555555556,\"#d8576b\"],[0.6666666666666666,\"#ed7953\"],[0.7777777777777778,\"#fb9f3a\"],[0.8888888888888888,\"#fdca26\"],[1.0,\"#f0f921\"]],\"type\":\"heatmap\"}],\"heatmapgl\":[{\"colorbar\":{\"outlinewidth\":0,\"ticks\":\"\"},\"colorscale\":[[0.0,\"#0d0887\"],[0.1111111111111111,\"#46039f\"],[0.2222222222222222,\"#7201a8\"],[0.3333333333333333,\"#9c179e\"],[0.4444444444444444,\"#bd3786\"],[0.5555555555555556,\"#d8576b\"],[0.6666666666666666,\"#ed7953\"],[0.7777777777777778,\"#fb9f3a\"],[0.8888888888888888,\"#fdca26\"],[1.0,\"#f0f921\"]],\"type\":\"heatmapgl\"}],\"histogram\":[{\"marker\":{\"pattern\":{\"fillmode\":\"overlay\",\"size\":10,\"solidity\":0.2}},\"type\":\"histogram\"}],\"histogram2d\":[{\"colorbar\":{\"outlinewidth\":0,\"ticks\":\"\"},\"colorscale\":[[0.0,\"#0d0887\"],[0.1111111111111111,\"#46039f\"],[0.2222222222222222,\"#7201a8\"],[0.3333333333333333,\"#9c179e\"],[0.4444444444444444,\"#bd3786\"],[0.5555555555555556,\"#d8576b\"],[0.6666666666666666,\"#ed7953\"],[0.7777777777777778,\"#fb9f3a\"],[0.8888888888888888,\"#fdca26\"],[1.0,\"#f0f921\"]],\"type\":\"histogram2d\"}],\"histogram2dcontour\":[{\"colorbar\":{\"outlinewidth\":0,\"ticks\":\"\"},\"colorscale\":[[0.0,\"#0d0887\"],[0.1111111111111111,\"#46039f\"],[0.2222222222222222,\"#7201a8\"],[0.3333333333333333,\"#9c179e\"],[0.4444444444444444,\"#bd3786\"],[0.5555555555555556,\"#d8576b\"],[0.6666666666666666,\"#ed7953\"],[0.7777777777777778,\"#fb9f3a\"],[0.8888888888888888,\"#fdca26\"],[1.0,\"#f0f921\"]],\"type\":\"histogram2dcontour\"}],\"mesh3d\":[{\"colorbar\":{\"outlinewidth\":0,\"ticks\":\"\"},\"type\":\"mesh3d\"}],\"parcoords\":[{\"line\":{\"colorbar\":{\"outlinewidth\":0,\"ticks\":\"\"}},\"type\":\"parcoords\"}],\"pie\":[{\"automargin\":true,\"type\":\"pie\"}],\"scatter\":[{\"marker\":{\"colorbar\":{\"outlinewidth\":0,\"ticks\":\"\"}},\"type\":\"scatter\"}],\"scatter3d\":[{\"line\":{\"colorbar\":{\"outlinewidth\":0,\"ticks\":\"\"}},\"marker\":{\"colorbar\":{\"outlinewidth\":0,\"ticks\":\"\"}},\"type\":\"scatter3d\"}],\"scattercarpet\":[{\"marker\":{\"colorbar\":{\"outlinewidth\":0,\"ticks\":\"\"}},\"type\":\"scattercarpet\"}],\"scattergeo\":[{\"marker\":{\"colorbar\":{\"outlinewidth\":0,\"ticks\":\"\"}},\"type\":\"scattergeo\"}],\"scattergl\":[{\"marker\":{\"colorbar\":{\"outlinewidth\":0,\"ticks\":\"\"}},\"type\":\"scattergl\"}],\"scattermapbox\":[{\"marker\":{\"colorbar\":{\"outlinewidth\":0,\"ticks\":\"\"}},\"type\":\"scattermapbox\"}],\"scatterpolar\":[{\"marker\":{\"colorbar\":{\"outlinewidth\":0,\"ticks\":\"\"}},\"type\":\"scatterpolar\"}],\"scatterpolargl\":[{\"marker\":{\"colorbar\":{\"outlinewidth\":0,\"ticks\":\"\"}},\"type\":\"scatterpolargl\"}],\"scatterternary\":[{\"marker\":{\"colorbar\":{\"outlinewidth\":0,\"ticks\":\"\"}},\"type\":\"scatterternary\"}],\"surface\":[{\"colorbar\":{\"outlinewidth\":0,\"ticks\":\"\"},\"colorscale\":[[0.0,\"#0d0887\"],[0.1111111111111111,\"#46039f\"],[0.2222222222222222,\"#7201a8\"],[0.3333333333333333,\"#9c179e\"],[0.4444444444444444,\"#bd3786\"],[0.5555555555555556,\"#d8576b\"],[0.6666666666666666,\"#ed7953\"],[0.7777777777777778,\"#fb9f3a\"],[0.8888888888888888,\"#fdca26\"],[1.0,\"#f0f921\"]],\"type\":\"surface\"}],\"table\":[{\"cells\":{\"fill\":{\"color\":\"#EBF0F8\"},\"line\":{\"color\":\"white\"}},\"header\":{\"fill\":{\"color\":\"#C8D4E3\"},\"line\":{\"color\":\"white\"}},\"type\":\"table\"}]},\"layout\":{\"annotationdefaults\":{\"arrowcolor\":\"#2a3f5f\",\"arrowhead\":0,\"arrowwidth\":1},\"autotypenumbers\":\"strict\",\"coloraxis\":{\"colorbar\":{\"outlinewidth\":0,\"ticks\":\"\"}},\"colorscale\":{\"diverging\":[[0,\"#8e0152\"],[0.1,\"#c51b7d\"],[0.2,\"#de77ae\"],[0.3,\"#f1b6da\"],[0.4,\"#fde0ef\"],[0.5,\"#f7f7f7\"],[0.6,\"#e6f5d0\"],[0.7,\"#b8e186\"],[0.8,\"#7fbc41\"],[0.9,\"#4d9221\"],[1,\"#276419\"]],\"sequential\":[[0.0,\"#0d0887\"],[0.1111111111111111,\"#46039f\"],[0.2222222222222222,\"#7201a8\"],[0.3333333333333333,\"#9c179e\"],[0.4444444444444444,\"#bd3786\"],[0.5555555555555556,\"#d8576b\"],[0.6666666666666666,\"#ed7953\"],[0.7777777777777778,\"#fb9f3a\"],[0.8888888888888888,\"#fdca26\"],[1.0,\"#f0f921\"]],\"sequentialminus\":[[0.0,\"#0d0887\"],[0.1111111111111111,\"#46039f\"],[0.2222222222222222,\"#7201a8\"],[0.3333333333333333,\"#9c179e\"],[0.4444444444444444,\"#bd3786\"],[0.5555555555555556,\"#d8576b\"],[0.6666666666666666,\"#ed7953\"],[0.7777777777777778,\"#fb9f3a\"],[0.8888888888888888,\"#fdca26\"],[1.0,\"#f0f921\"]]},\"colorway\":[\"#636efa\",\"#EF553B\",\"#00cc96\",\"#ab63fa\",\"#FFA15A\",\"#19d3f3\",\"#FF6692\",\"#B6E880\",\"#FF97FF\",\"#FECB52\"],\"font\":{\"color\":\"#2a3f5f\"},\"geo\":{\"bgcolor\":\"white\",\"lakecolor\":\"white\",\"landcolor\":\"#E5ECF6\",\"showlakes\":true,\"showland\":true,\"subunitcolor\":\"white\"},\"hoverlabel\":{\"align\":\"left\"},\"hovermode\":\"closest\",\"mapbox\":{\"style\":\"light\"},\"paper_bgcolor\":\"white\",\"plot_bgcolor\":\"#E5ECF6\",\"polar\":{\"angularaxis\":{\"gridcolor\":\"white\",\"linecolor\":\"white\",\"ticks\":\"\"},\"bgcolor\":\"#E5ECF6\",\"radialaxis\":{\"gridcolor\":\"white\",\"linecolor\":\"white\",\"ticks\":\"\"}},\"scene\":{\"xaxis\":{\"backgroundcolor\":\"#E5ECF6\",\"gridcolor\":\"white\",\"gridwidth\":2,\"linecolor\":\"white\",\"showbackground\":true,\"ticks\":\"\",\"zerolinecolor\":\"white\"},\"yaxis\":{\"backgroundcolor\":\"#E5ECF6\",\"gridcolor\":\"white\",\"gridwidth\":2,\"linecolor\":\"white\",\"showbackground\":true,\"ticks\":\"\",\"zerolinecolor\":\"white\"},\"zaxis\":{\"backgroundcolor\":\"#E5ECF6\",\"gridcolor\":\"white\",\"gridwidth\":2,\"linecolor\":\"white\",\"showbackground\":true,\"ticks\":\"\",\"zerolinecolor\":\"white\"}},\"shapedefaults\":{\"line\":{\"color\":\"#2a3f5f\"}},\"ternary\":{\"aaxis\":{\"gridcolor\":\"white\",\"linecolor\":\"white\",\"ticks\":\"\"},\"baxis\":{\"gridcolor\":\"white\",\"linecolor\":\"white\",\"ticks\":\"\"},\"bgcolor\":\"#E5ECF6\",\"caxis\":{\"gridcolor\":\"white\",\"linecolor\":\"white\",\"ticks\":\"\"}},\"title\":{\"x\":0.05},\"xaxis\":{\"automargin\":true,\"gridcolor\":\"white\",\"linecolor\":\"white\",\"ticks\":\"\",\"title\":{\"standoff\":15},\"zerolinecolor\":\"white\",\"zerolinewidth\":2},\"yaxis\":{\"automargin\":true,\"gridcolor\":\"white\",\"linecolor\":\"white\",\"ticks\":\"\",\"title\":{\"standoff\":15},\"zerolinecolor\":\"white\",\"zerolinewidth\":2}}}},                        {\"responsive\": true}                    ).then(function(){\n",
       "                            \n",
       "var gd = document.getElementById('8fa1e93d-3a86-4c41-81a0-68c872ec9dff');\n",
       "var x = new MutationObserver(function (mutations, observer) {{\n",
       "        var display = window.getComputedStyle(gd).display;\n",
       "        if (!display || display === 'none') {{\n",
       "            console.log([gd, 'removed!']);\n",
       "            Plotly.purge(gd);\n",
       "            observer.disconnect();\n",
       "        }}\n",
       "}});\n",
       "\n",
       "// Listen for the removal of the full notebook cells\n",
       "var notebookContainer = gd.closest('#notebook-container');\n",
       "if (notebookContainer) {{\n",
       "    x.observe(notebookContainer, {childList: true});\n",
       "}}\n",
       "\n",
       "// Listen for the clearing of the current output cell\n",
       "var outputEl = gd.closest('.output');\n",
       "if (outputEl) {{\n",
       "    x.observe(outputEl, {childList: true});\n",
       "}}\n",
       "\n",
       "                        })                };                });            </script>        </div>"
      ]
     },
     "metadata": {},
     "output_type": "display_data"
    }
   ],
   "source": [
    "import plotly.graph_objects as go\n",
    "from datetime import datetime\n",
    "\n",
    "fig = go.Figure(data=[go.Candlestick(x=stock_hist['Date'],\n",
    "                open=stock_hist['Open'],\n",
    "                high=stock_hist['High'],\n",
    "                low=stock_hist['Low'],\n",
    "                close=stock_hist['Close'])])\n",
    "\n",
    "fig.write_image(\"fig1.png\")\n",
    "\n",
    "fig.show()"
   ]
  },
  {
   "cell_type": "code",
   "execution_count": 11,
   "id": "1c55cd11",
   "metadata": {},
   "outputs": [],
   "source": [
    "from PIL import Image"
   ]
  },
  {
   "cell_type": "code",
   "execution_count": 13,
   "id": "48deef1c",
   "metadata": {},
   "outputs": [
    {
     "data": {
      "image/png": "[encoded data removed]",
      "text/plain": [
       "<PIL.PngImagePlugin.PngImageFile image mode=RGBA size=700x500 at 0x7F9840E0C280>"
      ]
     },
     "execution_count": 13,
     "metadata": {},
     "output_type": "execute_result"
    }
   ],
   "source": [
    "image= Image.open(\"fig1.png\")\n",
    "image"
   ]
  },
  {
   "cell_type": "code",
   "execution_count": 16,
   "id": "ccb32b67",
   "metadata": {},
   "outputs": [
    {
     "data": {
      "text/plain": [
       "<seaborn.axisgrid.FacetGrid at 0x7f9822e12b50>"
      ]
     },
     "execution_count": 16,
     "metadata": {},
     "output_type": "execute_result"
    },
    {
     "data": {
      "image/png": "[encoded data removed]",
      "text/plain": [
       "<Figure size 1008x504 with 1 Axes>"
      ]
     },
     "metadata": {
      "needs_background": "light"
     },
     "output_type": "display_data"
    }
   ],
   "source": [
    "g = sns.relplot(data= stock_hist, kind= \"line\", x= \"Date\", y= \"Adj Close\",height=7, aspect=2, row_order = 45)\n",
    "g.set_titles(\"denem\")\n",
    "g.set_axis_labels(\"Date\",\"Price in Turkish Liras\")\n",
    "g.set_xticklabels(rotation=30)"
   ]
  },
  {
   "cell_type": "code",
   "execution_count": 17,
   "id": "93c62e79",
   "metadata": {},
   "outputs": [],
   "source": [
    "stock_hist[\"High_Low\"] = (stock_hist[\"High\"] + stock_hist[\"Low\"]) /2"
   ]
  },
  {
   "cell_type": "code",
   "execution_count": 19,
   "id": "9ed1e177",
   "metadata": {},
   "outputs": [
    {
     "data": {
      "text/html": [
       "<div>\n",
       "<style scoped>\n",
       "    .dataframe tbody tr th:only-of-type {\n",
       "        vertical-align: middle;\n",
       "    }\n",
       "\n",
       "    .dataframe tbody tr th {\n",
       "        vertical-align: top;\n",
       "    }\n",
       "\n",
       "    .dataframe thead th {\n",
       "        text-align: right;\n",
       "    }\n",
       "</style>\n",
       "<table border=\"1\" class=\"dataframe\">\n",
       "  <thead>\n",
       "    <tr style=\"text-align: right;\">\n",
       "      <th></th>\n",
       "      <th>Date</th>\n",
       "      <th>Open</th>\n",
       "      <th>High</th>\n",
       "      <th>Low</th>\n",
       "      <th>Close</th>\n",
       "      <th>Adj Close</th>\n",
       "      <th>Volume</th>\n",
       "      <th>High_Low</th>\n",
       "    </tr>\n",
       "  </thead>\n",
       "  <tbody>\n",
       "    <tr>\n",
       "      <th>0</th>\n",
       "      <td>2020-02-01</td>\n",
       "      <td>11.96</td>\n",
       "      <td>12.62</td>\n",
       "      <td>8.79</td>\n",
       "      <td>9.54</td>\n",
       "      <td>9.146201</td>\n",
       "      <td>854973062</td>\n",
       "      <td>10.705</td>\n",
       "    </tr>\n",
       "    <tr>\n",
       "      <th>1</th>\n",
       "      <td>2020-03-01</td>\n",
       "      <td>9.90</td>\n",
       "      <td>10.62</td>\n",
       "      <td>6.76</td>\n",
       "      <td>8.17</td>\n",
       "      <td>7.832754</td>\n",
       "      <td>1970202565</td>\n",
       "      <td>8.690</td>\n",
       "    </tr>\n",
       "    <tr>\n",
       "      <th>2</th>\n",
       "      <td>2020-04-01</td>\n",
       "      <td>7.99</td>\n",
       "      <td>8.94</td>\n",
       "      <td>7.47</td>\n",
       "      <td>8.33</td>\n",
       "      <td>7.986149</td>\n",
       "      <td>2538130051</td>\n",
       "      <td>8.205</td>\n",
       "    </tr>\n",
       "    <tr>\n",
       "      <th>3</th>\n",
       "      <td>2020-05-01</td>\n",
       "      <td>8.33</td>\n",
       "      <td>8.33</td>\n",
       "      <td>7.51</td>\n",
       "      <td>7.85</td>\n",
       "      <td>7.525962</td>\n",
       "      <td>2083406205</td>\n",
       "      <td>7.920</td>\n",
       "    </tr>\n",
       "    <tr>\n",
       "      <th>4</th>\n",
       "      <td>2020-06-01</td>\n",
       "      <td>7.93</td>\n",
       "      <td>8.65</td>\n",
       "      <td>7.89</td>\n",
       "      <td>8.48</td>\n",
       "      <td>8.129956</td>\n",
       "      <td>3176554221</td>\n",
       "      <td>8.270</td>\n",
       "    </tr>\n",
       "  </tbody>\n",
       "</table>\n",
       "</div>"
      ],
      "text/plain": [
       "         Date   Open   High   Low  Close  Adj Close      Volume  High_Low\n",
       "0  2020-02-01  11.96  12.62  8.79   9.54   9.146201   854973062    10.705\n",
       "1  2020-03-01   9.90  10.62  6.76   8.17   7.832754  1970202565     8.690\n",
       "2  2020-04-01   7.99   8.94  7.47   8.33   7.986149  2538130051     8.205\n",
       "3  2020-05-01   8.33   8.33  7.51   7.85   7.525962  2083406205     7.920\n",
       "4  2020-06-01   7.93   8.65  7.89   8.48   8.129956  3176554221     8.270"
      ]
     },
     "execution_count": 19,
     "metadata": {},
     "output_type": "execute_result"
    }
   ],
   "source": [
    "stock_hist.head()"
   ]
  },
  {
   "cell_type": "code",
   "execution_count": 20,
   "id": "4164820d",
   "metadata": {},
   "outputs": [],
   "source": [
    "P_and_N = []\n",
    "for x in range(0,len(stock_hist)):\n",
    "    if (stock_hist.iloc[x][\"High_Low\"] > stock_hist.iloc[x][\"Open\"]):\n",
    "        P_and_N.append(\"Positive\")\n",
    "    else:\n",
    "        P_and_N.append(\"Negative\")\n",
    "        \n",
    "stock_hist[\"Positive/Negative\"] = P_and_N"
   ]
  },
  {
   "cell_type": "code",
   "execution_count": 21,
   "id": "56a2b4d5",
   "metadata": {},
   "outputs": [
    {
     "data": {
      "text/html": [
       "<div>\n",
       "<style scoped>\n",
       "    .dataframe tbody tr th:only-of-type {\n",
       "        vertical-align: middle;\n",
       "    }\n",
       "\n",
       "    .dataframe tbody tr th {\n",
       "        vertical-align: top;\n",
       "    }\n",
       "\n",
       "    .dataframe thead th {\n",
       "        text-align: right;\n",
       "    }\n",
       "</style>\n",
       "<table border=\"1\" class=\"dataframe\">\n",
       "  <thead>\n",
       "    <tr style=\"text-align: right;\">\n",
       "      <th></th>\n",
       "      <th>Date</th>\n",
       "      <th>Open</th>\n",
       "      <th>High</th>\n",
       "      <th>Low</th>\n",
       "      <th>Close</th>\n",
       "      <th>Adj Close</th>\n",
       "      <th>Volume</th>\n",
       "      <th>High_Low</th>\n",
       "      <th>Positive/Negative</th>\n",
       "    </tr>\n",
       "  </thead>\n",
       "  <tbody>\n",
       "    <tr>\n",
       "      <th>0</th>\n",
       "      <td>2020-02-01</td>\n",
       "      <td>11.96</td>\n",
       "      <td>12.62</td>\n",
       "      <td>8.79</td>\n",
       "      <td>9.54</td>\n",
       "      <td>9.146201</td>\n",
       "      <td>854973062</td>\n",
       "      <td>10.705</td>\n",
       "      <td>Negative</td>\n",
       "    </tr>\n",
       "    <tr>\n",
       "      <th>1</th>\n",
       "      <td>2020-03-01</td>\n",
       "      <td>9.90</td>\n",
       "      <td>10.62</td>\n",
       "      <td>6.76</td>\n",
       "      <td>8.17</td>\n",
       "      <td>7.832754</td>\n",
       "      <td>1970202565</td>\n",
       "      <td>8.690</td>\n",
       "      <td>Negative</td>\n",
       "    </tr>\n",
       "    <tr>\n",
       "      <th>2</th>\n",
       "      <td>2020-04-01</td>\n",
       "      <td>7.99</td>\n",
       "      <td>8.94</td>\n",
       "      <td>7.47</td>\n",
       "      <td>8.33</td>\n",
       "      <td>7.986149</td>\n",
       "      <td>2538130051</td>\n",
       "      <td>8.205</td>\n",
       "      <td>Positive</td>\n",
       "    </tr>\n",
       "    <tr>\n",
       "      <th>3</th>\n",
       "      <td>2020-05-01</td>\n",
       "      <td>8.33</td>\n",
       "      <td>8.33</td>\n",
       "      <td>7.51</td>\n",
       "      <td>7.85</td>\n",
       "      <td>7.525962</td>\n",
       "      <td>2083406205</td>\n",
       "      <td>7.920</td>\n",
       "      <td>Negative</td>\n",
       "    </tr>\n",
       "    <tr>\n",
       "      <th>4</th>\n",
       "      <td>2020-06-01</td>\n",
       "      <td>7.93</td>\n",
       "      <td>8.65</td>\n",
       "      <td>7.89</td>\n",
       "      <td>8.48</td>\n",
       "      <td>8.129956</td>\n",
       "      <td>3176554221</td>\n",
       "      <td>8.270</td>\n",
       "      <td>Positive</td>\n",
       "    </tr>\n",
       "  </tbody>\n",
       "</table>\n",
       "</div>"
      ],
      "text/plain": [
       "         Date   Open   High   Low  Close  Adj Close      Volume  High_Low  \\\n",
       "0  2020-02-01  11.96  12.62  8.79   9.54   9.146201   854973062    10.705   \n",
       "1  2020-03-01   9.90  10.62  6.76   8.17   7.832754  1970202565     8.690   \n",
       "2  2020-04-01   7.99   8.94  7.47   8.33   7.986149  2538130051     8.205   \n",
       "3  2020-05-01   8.33   8.33  7.51   7.85   7.525962  2083406205     7.920   \n",
       "4  2020-06-01   7.93   8.65  7.89   8.48   8.129956  3176554221     8.270   \n",
       "\n",
       "  Positive/Negative  \n",
       "0          Negative  \n",
       "1          Negative  \n",
       "2          Positive  \n",
       "3          Negative  \n",
       "4          Positive  "
      ]
     },
     "execution_count": 21,
     "metadata": {},
     "output_type": "execute_result"
    }
   ],
   "source": [
    "stock_hist.head()"
   ]
  },
  {
   "cell_type": "code",
   "execution_count": 25,
   "id": "1e52dd1e",
   "metadata": {},
   "outputs": [],
   "source": [
    "income_value = pd.read_csv(\"/Users/batuhanyolver/Downloads/GARANT_BBVA1.csv\", on_bad_lines = \"skip\", sep= \";\")"
   ]
  },
  {
   "cell_type": "code",
   "execution_count": 27,
   "id": "595e0047",
   "metadata": {},
   "outputs": [
    {
     "data": {
      "text/plain": [
       "pandas.core.frame.DataFrame"
      ]
     },
     "execution_count": 27,
     "metadata": {},
     "output_type": "execute_result"
    }
   ],
   "source": [
    "type(income_value)"
   ]
  },
  {
   "cell_type": "code",
   "execution_count": 28,
   "id": "61371ba8",
   "metadata": {},
   "outputs": [
    {
     "data": {
      "text/html": [
       "<div>\n",
       "<style scoped>\n",
       "    .dataframe tbody tr th:only-of-type {\n",
       "        vertical-align: middle;\n",
       "    }\n",
       "\n",
       "    .dataframe tbody tr th {\n",
       "        vertical-align: top;\n",
       "    }\n",
       "\n",
       "    .dataframe thead th {\n",
       "        text-align: right;\n",
       "    }\n",
       "</style>\n",
       "<table border=\"1\" class=\"dataframe\">\n",
       "  <thead>\n",
       "    <tr style=\"text-align: right;\">\n",
       "      <th></th>\n",
       "      <th>TÜRKİYE GARANTİ BANKASI A.Ş.</th>\n",
       "      <th>Unnamed: 1</th>\n",
       "      <th>Unnamed: 2</th>\n",
       "      <th>Unnamed: 3</th>\n",
       "      <th>Unnamed: 4</th>\n",
       "    </tr>\n",
       "  </thead>\n",
       "  <tbody>\n",
       "    <tr>\n",
       "      <th>0</th>\n",
       "      <td>NaN</td>\n",
       "      <td>NaN</td>\n",
       "      <td>NaN</td>\n",
       "      <td>NaN</td>\n",
       "      <td>NaN</td>\n",
       "    </tr>\n",
       "    <tr>\n",
       "      <th>1</th>\n",
       "      <td>Statement of Financial Position (Balance Sheet)</td>\n",
       "      <td>2019/12</td>\n",
       "      <td>2020/12</td>\n",
       "      <td>2021/12</td>\n",
       "      <td>2022/06</td>\n",
       "    </tr>\n",
       "    <tr>\n",
       "      <th>2</th>\n",
       "      <td>Presentation Currency</td>\n",
       "      <td>1000TL</td>\n",
       "      <td>1000TL</td>\n",
       "      <td>1000TL</td>\n",
       "      <td>1000TL</td>\n",
       "    </tr>\n",
       "    <tr>\n",
       "      <th>3</th>\n",
       "      <td>Nature of Financial Statements</td>\n",
       "      <td>Consolidated</td>\n",
       "      <td>Consolidated</td>\n",
       "      <td>Consolidated</td>\n",
       "      <td>Consolidated</td>\n",
       "    </tr>\n",
       "    <tr>\n",
       "      <th>4</th>\n",
       "      <td>Financial Assets (Net)</td>\n",
       "      <td>108.960.421</td>\n",
       "      <td>137.151.179</td>\n",
       "      <td>298.173.164</td>\n",
       "      <td>354.696.081</td>\n",
       "    </tr>\n",
       "  </tbody>\n",
       "</table>\n",
       "</div>"
      ],
      "text/plain": [
       "                      TÜRKİYE GARANTİ BANKASI A.Ş.    Unnamed: 1  \\\n",
       "0                                              NaN           NaN   \n",
       "1  Statement of Financial Position (Balance Sheet)       2019/12   \n",
       "2                            Presentation Currency        1000TL   \n",
       "3                   Nature of Financial Statements  Consolidated   \n",
       "4                           Financial Assets (Net)   108.960.421   \n",
       "\n",
       "     Unnamed: 2    Unnamed: 3    Unnamed: 4  \n",
       "0           NaN           NaN           NaN  \n",
       "1       2020/12       2021/12       2022/06  \n",
       "2        1000TL        1000TL        1000TL  \n",
       "3  Consolidated  Consolidated  Consolidated  \n",
       "4   137.151.179   298.173.164   354.696.081  "
      ]
     },
     "execution_count": 28,
     "metadata": {},
     "output_type": "execute_result"
    }
   ],
   "source": [
    "income_value.head()"
   ]
  },
  {
   "cell_type": "code",
   "execution_count": 29,
   "id": "5a69421f",
   "metadata": {},
   "outputs": [
    {
     "name": "stdout",
     "output_type": "stream",
     "text": [
      "<class 'pandas.core.frame.DataFrame'>\n",
      "RangeIndex: 50 entries, 0 to 49\n",
      "Data columns (total 5 columns):\n",
      " #   Column                        Non-Null Count  Dtype \n",
      "---  ------                        --------------  ----- \n",
      " 0   TÜRKİYE GARANTİ BANKASI A.Ş.  49 non-null     object\n",
      " 1   Unnamed: 1                    49 non-null     object\n",
      " 2   Unnamed: 2                    49 non-null     object\n",
      " 3   Unnamed: 3                    49 non-null     object\n",
      " 4   Unnamed: 4                    49 non-null     object\n",
      "dtypes: object(5)\n",
      "memory usage: 2.1+ KB\n"
     ]
    }
   ],
   "source": [
    "income_value.info()"
   ]
  },
  {
   "cell_type": "code",
   "execution_count": 32,
   "id": "5481cbb3",
   "metadata": {},
   "outputs": [],
   "source": [
    "our = [1,4,14,21,30,31,38,45,49]\n",
    "list1 = []\n",
    "\n",
    "for y in our:\n",
    "    list1.append([x for x in income_value.loc[y]])\n",
    "df1 = pd.DataFrame(list1, columns = list1[0] )"
   ]
  },
  {
   "cell_type": "code",
   "execution_count": 33,
   "id": "5d558cd9",
   "metadata": {},
   "outputs": [
    {
     "data": {
      "text/html": [
       "<div>\n",
       "<style scoped>\n",
       "    .dataframe tbody tr th:only-of-type {\n",
       "        vertical-align: middle;\n",
       "    }\n",
       "\n",
       "    .dataframe tbody tr th {\n",
       "        vertical-align: top;\n",
       "    }\n",
       "\n",
       "    .dataframe thead th {\n",
       "        text-align: right;\n",
       "    }\n",
       "</style>\n",
       "<table border=\"1\" class=\"dataframe\">\n",
       "  <thead>\n",
       "    <tr style=\"text-align: right;\">\n",
       "      <th></th>\n",
       "      <th>Statement of Financial Position (Balance Sheet)</th>\n",
       "      <th>2019/12</th>\n",
       "      <th>2020/12</th>\n",
       "      <th>2021/12</th>\n",
       "      <th>2022/06</th>\n",
       "    </tr>\n",
       "  </thead>\n",
       "  <tbody>\n",
       "    <tr>\n",
       "      <th>0</th>\n",
       "      <td>Statement of Financial Position (Balance Sheet)</td>\n",
       "      <td>2019/12</td>\n",
       "      <td>2020/12</td>\n",
       "      <td>2021/12</td>\n",
       "      <td>2022/06</td>\n",
       "    </tr>\n",
       "    <tr>\n",
       "      <th>1</th>\n",
       "      <td>Financial Assets (Net)</td>\n",
       "      <td>108.960.421</td>\n",
       "      <td>137.151.179</td>\n",
       "      <td>298.173.164</td>\n",
       "      <td>354.696.081</td>\n",
       "    </tr>\n",
       "    <tr>\n",
       "      <th>2</th>\n",
       "      <td>Total Assets</td>\n",
       "      <td>428.554.148</td>\n",
       "      <td>540.912.805</td>\n",
       "      <td>849.397.311</td>\n",
       "      <td>1.096.074.926</td>\n",
       "    </tr>\n",
       "    <tr>\n",
       "      <th>3</th>\n",
       "      <td>Derivative Financial Liabilities</td>\n",
       "      <td>4.239.665</td>\n",
       "      <td>8.536.890</td>\n",
       "      <td>13.428.735</td>\n",
       "      <td>17.947.297</td>\n",
       "    </tr>\n",
       "    <tr>\n",
       "      <th>4</th>\n",
       "      <td>Equity</td>\n",
       "      <td>54.050.747</td>\n",
       "      <td>62.409.195</td>\n",
       "      <td>79.222.566</td>\n",
       "      <td>112.088.040</td>\n",
       "    </tr>\n",
       "    <tr>\n",
       "      <th>5</th>\n",
       "      <td>Total Equity and Liabilities</td>\n",
       "      <td>428.554.148</td>\n",
       "      <td>540.912.805</td>\n",
       "      <td>849.397.311</td>\n",
       "      <td>1.096.074.926</td>\n",
       "    </tr>\n",
       "    <tr>\n",
       "      <th>6</th>\n",
       "      <td>Trading Income or Loss (net)</td>\n",
       "      <td>-1.806.062</td>\n",
       "      <td>702.894</td>\n",
       "      <td>4.735.886</td>\n",
       "      <td>5.935.748</td>\n",
       "    </tr>\n",
       "    <tr>\n",
       "      <th>7</th>\n",
       "      <td>Net Profit (Loss)</td>\n",
       "      <td>6.241.390</td>\n",
       "      <td>6.385.163</td>\n",
       "      <td>13.059.731</td>\n",
       "      <td>21.181.023</td>\n",
       "    </tr>\n",
       "    <tr>\n",
       "      <th>8</th>\n",
       "      <td>Total Comprehensive Income (Loss)</td>\n",
       "      <td>7.134.361</td>\n",
       "      <td>8.373.066</td>\n",
       "      <td>17.306.255</td>\n",
       "      <td>33.083.534</td>\n",
       "    </tr>\n",
       "  </tbody>\n",
       "</table>\n",
       "</div>"
      ],
      "text/plain": [
       "   Statement of Financial Position (Balance Sheet)      2019/12      2020/12  \\\n",
       "0  Statement of Financial Position (Balance Sheet)      2019/12      2020/12   \n",
       "1                           Financial Assets (Net)  108.960.421  137.151.179   \n",
       "2                                     Total Assets  428.554.148  540.912.805   \n",
       "3                 Derivative Financial Liabilities    4.239.665    8.536.890   \n",
       "4                                           Equity   54.050.747   62.409.195   \n",
       "5                     Total Equity and Liabilities  428.554.148  540.912.805   \n",
       "6                     Trading Income or Loss (net)   -1.806.062      702.894   \n",
       "7                                Net Profit (Loss)    6.241.390    6.385.163   \n",
       "8                Total Comprehensive Income (Loss)    7.134.361    8.373.066   \n",
       "\n",
       "       2021/12        2022/06  \n",
       "0      2021/12        2022/06  \n",
       "1  298.173.164    354.696.081  \n",
       "2  849.397.311  1.096.074.926  \n",
       "3   13.428.735     17.947.297  \n",
       "4   79.222.566    112.088.040  \n",
       "5  849.397.311  1.096.074.926  \n",
       "6    4.735.886      5.935.748  \n",
       "7   13.059.731     21.181.023  \n",
       "8   17.306.255     33.083.534  "
      ]
     },
     "execution_count": 33,
     "metadata": {},
     "output_type": "execute_result"
    }
   ],
   "source": [
    "df1"
   ]
  },
  {
   "cell_type": "code",
   "execution_count": 34,
   "id": "c25ca76a",
   "metadata": {},
   "outputs": [],
   "source": [
    "xbank_hist = pd.read_csv(\"/Users/batuhanyolver/Downloads/XBANK.IS (2).csv\")"
   ]
  },
  {
   "cell_type": "markdown",
   "id": "6bfb1576",
   "metadata": {},
   "source": [
    "#### XBANK Stock Value\n",
    "XBANK is total value of bank indexing in BIST stock market. For evaluation among GARANTI BBVA and other banks; we use this data. The xbank data collected from Yahoo finance. "
   ]
  },
  {
   "cell_type": "code",
   "execution_count": 35,
   "id": "364bf4e3",
   "metadata": {},
   "outputs": [
    {
     "data": {
      "text/html": [
       "<div>\n",
       "<style scoped>\n",
       "    .dataframe tbody tr th:only-of-type {\n",
       "        vertical-align: middle;\n",
       "    }\n",
       "\n",
       "    .dataframe tbody tr th {\n",
       "        vertical-align: top;\n",
       "    }\n",
       "\n",
       "    .dataframe thead th {\n",
       "        text-align: right;\n",
       "    }\n",
       "</style>\n",
       "<table border=\"1\" class=\"dataframe\">\n",
       "  <thead>\n",
       "    <tr style=\"text-align: right;\">\n",
       "      <th></th>\n",
       "      <th>Date</th>\n",
       "      <th>Open</th>\n",
       "      <th>High</th>\n",
       "      <th>Low</th>\n",
       "      <th>Close</th>\n",
       "      <th>Adj Close</th>\n",
       "      <th>Volume</th>\n",
       "    </tr>\n",
       "  </thead>\n",
       "  <tbody>\n",
       "    <tr>\n",
       "      <th>0</th>\n",
       "      <td>2020-02-01</td>\n",
       "      <td>174147.406250</td>\n",
       "      <td>183478.703125</td>\n",
       "      <td>131270.500000</td>\n",
       "      <td>139920.593750</td>\n",
       "      <td>139920.593750</td>\n",
       "      <td>10544800</td>\n",
       "    </tr>\n",
       "    <tr>\n",
       "      <th>1</th>\n",
       "      <td>2020-03-01</td>\n",
       "      <td>144565.906250</td>\n",
       "      <td>155995.796875</td>\n",
       "      <td>105551.203125</td>\n",
       "      <td>117559.898438</td>\n",
       "      <td>117559.898438</td>\n",
       "      <td>12075300</td>\n",
       "    </tr>\n",
       "    <tr>\n",
       "      <th>2</th>\n",
       "      <td>2020-04-01</td>\n",
       "      <td>115255.500000</td>\n",
       "      <td>129159.500000</td>\n",
       "      <td>111749.898438</td>\n",
       "      <td>123426.703125</td>\n",
       "      <td>123426.703125</td>\n",
       "      <td>13608800</td>\n",
       "    </tr>\n",
       "    <tr>\n",
       "      <th>3</th>\n",
       "      <td>2020-05-01</td>\n",
       "      <td>122188.203125</td>\n",
       "      <td>123007.500000</td>\n",
       "      <td>117202.500000</td>\n",
       "      <td>122080.703125</td>\n",
       "      <td>122080.703125</td>\n",
       "      <td>10639000</td>\n",
       "    </tr>\n",
       "    <tr>\n",
       "      <th>4</th>\n",
       "      <td>2020-06-01</td>\n",
       "      <td>123332.796875</td>\n",
       "      <td>135696.500000</td>\n",
       "      <td>122796.500000</td>\n",
       "      <td>133474.203125</td>\n",
       "      <td>133474.203125</td>\n",
       "      <td>21835700</td>\n",
       "    </tr>\n",
       "  </tbody>\n",
       "</table>\n",
       "</div>"
      ],
      "text/plain": [
       "         Date           Open           High            Low          Close  \\\n",
       "0  2020-02-01  174147.406250  183478.703125  131270.500000  139920.593750   \n",
       "1  2020-03-01  144565.906250  155995.796875  105551.203125  117559.898438   \n",
       "2  2020-04-01  115255.500000  129159.500000  111749.898438  123426.703125   \n",
       "3  2020-05-01  122188.203125  123007.500000  117202.500000  122080.703125   \n",
       "4  2020-06-01  123332.796875  135696.500000  122796.500000  133474.203125   \n",
       "\n",
       "       Adj Close    Volume  \n",
       "0  139920.593750  10544800  \n",
       "1  117559.898438  12075300  \n",
       "2  123426.703125  13608800  \n",
       "3  122080.703125  10639000  \n",
       "4  133474.203125  21835700  "
      ]
     },
     "execution_count": 35,
     "metadata": {},
     "output_type": "execute_result"
    }
   ],
   "source": [
    "xbank_hist.head()"
   ]
  },
  {
   "cell_type": "code",
   "execution_count": 36,
   "id": "ff5ba8a0",
   "metadata": {},
   "outputs": [
    {
     "data": {
      "text/plain": [
       "<seaborn.axisgrid.FacetGrid at 0x7f9831cd2b20>"
      ]
     },
     "execution_count": 36,
     "metadata": {},
     "output_type": "execute_result"
    },
    {
     "data": {
      "image/png": "[encoded data removed]",
      "text/plain": [
       "<Figure size 1008x504 with 1 Axes>"
      ]
     },
     "metadata": {
      "needs_background": "light"
     },
     "output_type": "display_data"
    }
   ],
   "source": [
    "g1 = sns.relplot(data= xbank_hist, kind= \"line\", x= \"Date\", y= \"Close\",height=7, aspect=2, row_order = 45)\n",
    "g1.set_titles(\"denem\")\n",
    "g1.set_axis_labels(\"Date\",\"Index Value\")\n",
    "g1.set_xticklabels(rotation=30)"
   ]
  },
  {
   "cell_type": "code",
   "execution_count": 37,
   "id": "74fbd0d4",
   "metadata": {},
   "outputs": [
    {
     "data": {
      "text/plain": [
       "Text(0.5, 1.0, 'Monthly Volumes')"
      ]
     },
     "execution_count": 37,
     "metadata": {},
     "output_type": "execute_result"
    },
    {
     "data": {
      "image/png": "[encoded data removed]",
      "text/plain": [
       "<Figure size 720x576 with 2 Axes>"
      ]
     },
     "metadata": {
      "needs_background": "light"
     },
     "output_type": "display_data"
    }
   ],
   "source": [
    "volume = stock_hist[[\"Volume\", \"Date\"]]\n",
    "\n",
    "fig, (ax1, ax2) = plt.subplots(nrows=2, ncols=1, sharex=True, figsize=(10, 8))\n",
    "\n",
    "ax1.plot(stock_hist[\"Adj Close\"], color='purple')\n",
    "ax1.grid(True)\n",
    "ax1.set_title(\"Monthly Prices\")\n",
    "\n",
    "\n",
    "ax2.bar(volume[\"Date\"], volume[\"Volume\"])\n",
    "ax2.grid(True)\n",
    "plt.xticks(rotation=45)\n",
    "ax2.set_title(\"Monthly Volumes\")"
   ]
  },
  {
   "cell_type": "code",
   "execution_count": 38,
   "id": "e9a9be69",
   "metadata": {},
   "outputs": [
    {
     "data": {
      "text/plain": [
       "Text(0.5, 1.0, 'XBank Monthly Prices')"
      ]
     },
     "execution_count": 38,
     "metadata": {},
     "output_type": "execute_result"
    },
    {
     "data": {
      "image/png": "[encoded data removed]",
      "text/plain": [
       "<Figure size 720x576 with 2 Axes>"
      ]
     },
     "metadata": {
      "needs_background": "light"
     },
     "output_type": "display_data"
    }
   ],
   "source": [
    "fig, (ax1, ax2) = plt.subplots(nrows=2, ncols=1, sharex=True, figsize=(10, 8))\n",
    "\n",
    "ax1.plot(stock_hist[\"Adj Close\"], color='purple')\n",
    "ax1.grid(True)\n",
    "ax1.set_title(\"GARANTI BBVA Monthly Prices\")\n",
    "\n",
    "ax2.plot(xbank_hist[\"Date\"], xbank_hist[\"Adj Close\"], color =\"blue\")\n",
    "ax2.grid(True)\n",
    "plt.xticks(rotation=45)\n",
    "ax2.set_title(\"XBank Monthly Prices\")"
   ]
  },
  {
   "cell_type": "code",
   "execution_count": 42,
   "id": "d7641fe1",
   "metadata": {},
   "outputs": [],
   "source": [
    "from collections import deque\n",
    "our = [1,4,14,21,30,31,38,45,49]\n",
    "list1 = []\n",
    "\n",
    "for y in our:\n",
    "    if y != 1:    \n",
    "        a = ([x for x in income_value.loc[y]])\n",
    "        a_1 = [int(str(x).replace(\".\",\"\")) for x in a[1:]]\n",
    "        a_1 = deque(a_1)\n",
    "        a_1.appendleft(a[0])\n",
    "        list1.append(a_1)\n",
    "    else:\n",
    "        list1.append([x for x in income_value.loc[y]])\n",
    "df2 = pd.DataFrame(list1, columns = list1[0] )"
   ]
  },
  {
   "cell_type": "code",
   "execution_count": 43,
   "id": "fd8dc6cb",
   "metadata": {},
   "outputs": [
    {
     "data": {
      "text/html": [
       "<div>\n",
       "<style scoped>\n",
       "    .dataframe tbody tr th:only-of-type {\n",
       "        vertical-align: middle;\n",
       "    }\n",
       "\n",
       "    .dataframe tbody tr th {\n",
       "        vertical-align: top;\n",
       "    }\n",
       "\n",
       "    .dataframe thead th {\n",
       "        text-align: right;\n",
       "    }\n",
       "</style>\n",
       "<table border=\"1\" class=\"dataframe\">\n",
       "  <thead>\n",
       "    <tr style=\"text-align: right;\">\n",
       "      <th></th>\n",
       "      <th>Statement of Financial Position (Balance Sheet)</th>\n",
       "      <th>2019/12</th>\n",
       "      <th>2020/12</th>\n",
       "      <th>2021/12</th>\n",
       "      <th>2022/06</th>\n",
       "    </tr>\n",
       "  </thead>\n",
       "  <tbody>\n",
       "    <tr>\n",
       "      <th>0</th>\n",
       "      <td>Statement of Financial Position (Balance Sheet)</td>\n",
       "      <td>2019/12</td>\n",
       "      <td>2020/12</td>\n",
       "      <td>2021/12</td>\n",
       "      <td>2022/06</td>\n",
       "    </tr>\n",
       "    <tr>\n",
       "      <th>1</th>\n",
       "      <td>Financial Assets (Net)</td>\n",
       "      <td>108960421</td>\n",
       "      <td>137151179</td>\n",
       "      <td>298173164</td>\n",
       "      <td>354696081</td>\n",
       "    </tr>\n",
       "    <tr>\n",
       "      <th>2</th>\n",
       "      <td>Total Assets</td>\n",
       "      <td>428554148</td>\n",
       "      <td>540912805</td>\n",
       "      <td>849397311</td>\n",
       "      <td>1096074926</td>\n",
       "    </tr>\n",
       "    <tr>\n",
       "      <th>3</th>\n",
       "      <td>Derivative Financial Liabilities</td>\n",
       "      <td>4239665</td>\n",
       "      <td>8536890</td>\n",
       "      <td>13428735</td>\n",
       "      <td>17947297</td>\n",
       "    </tr>\n",
       "    <tr>\n",
       "      <th>4</th>\n",
       "      <td>Equity</td>\n",
       "      <td>54050747</td>\n",
       "      <td>62409195</td>\n",
       "      <td>79222566</td>\n",
       "      <td>112088040</td>\n",
       "    </tr>\n",
       "    <tr>\n",
       "      <th>5</th>\n",
       "      <td>Total Equity and Liabilities</td>\n",
       "      <td>428554148</td>\n",
       "      <td>540912805</td>\n",
       "      <td>849397311</td>\n",
       "      <td>1096074926</td>\n",
       "    </tr>\n",
       "    <tr>\n",
       "      <th>6</th>\n",
       "      <td>Trading Income or Loss (net)</td>\n",
       "      <td>-1806062</td>\n",
       "      <td>702894</td>\n",
       "      <td>4735886</td>\n",
       "      <td>5935748</td>\n",
       "    </tr>\n",
       "    <tr>\n",
       "      <th>7</th>\n",
       "      <td>Net Profit (Loss)</td>\n",
       "      <td>6241390</td>\n",
       "      <td>6385163</td>\n",
       "      <td>13059731</td>\n",
       "      <td>21181023</td>\n",
       "    </tr>\n",
       "    <tr>\n",
       "      <th>8</th>\n",
       "      <td>Total Comprehensive Income (Loss)</td>\n",
       "      <td>7134361</td>\n",
       "      <td>8373066</td>\n",
       "      <td>17306255</td>\n",
       "      <td>33083534</td>\n",
       "    </tr>\n",
       "  </tbody>\n",
       "</table>\n",
       "</div>"
      ],
      "text/plain": [
       "   Statement of Financial Position (Balance Sheet)    2019/12    2020/12  \\\n",
       "0  Statement of Financial Position (Balance Sheet)    2019/12    2020/12   \n",
       "1                           Financial Assets (Net)  108960421  137151179   \n",
       "2                                     Total Assets  428554148  540912805   \n",
       "3                 Derivative Financial Liabilities    4239665    8536890   \n",
       "4                                           Equity   54050747   62409195   \n",
       "5                     Total Equity and Liabilities  428554148  540912805   \n",
       "6                     Trading Income or Loss (net)   -1806062     702894   \n",
       "7                                Net Profit (Loss)    6241390    6385163   \n",
       "8                Total Comprehensive Income (Loss)    7134361    8373066   \n",
       "\n",
       "     2021/12     2022/06  \n",
       "0    2021/12     2022/06  \n",
       "1  298173164   354696081  \n",
       "2  849397311  1096074926  \n",
       "3   13428735    17947297  \n",
       "4   79222566   112088040  \n",
       "5  849397311  1096074926  \n",
       "6    4735886     5935748  \n",
       "7   13059731    21181023  \n",
       "8   17306255    33083534  "
      ]
     },
     "execution_count": 43,
     "metadata": {},
     "output_type": "execute_result"
    }
   ],
   "source": [
    "df2"
   ]
  },
  {
   "cell_type": "code",
   "execution_count": 44,
   "id": "c8f36798",
   "metadata": {},
   "outputs": [],
   "source": [
    "def change_calculate(data,x):\n",
    "    a = data.iloc[x][1]\n",
    "    b = data.iloc[x][2]\n",
    "    c = data.iloc[x][3]\n",
    "    d = data.iloc[x][4]\n",
    "    chn1 = (100*(b-a))/a\n",
    "    if b > a: \n",
    "        chn1 = abs(chn1)\n",
    "    chn2 = (100*(c-b))/b\n",
    "    if c > b:\n",
    "        chn2 = abs(chn2)\n",
    "    chn3 = (100*(d-c))/c\n",
    "    if d > c:\n",
    "        chn3 = abs(chn3)\n",
    "    new_list = [[chn1, chn2, chn3]]\n",
    "    dfA = pd.DataFrame(new_list, columns= [\"2019/2020\",\"2020/2021\",\"2021/2022\"])\n",
    "    dfA =dfA.rename(index={0:data.iloc[x][0]})\n",
    "    dfA = dfA.rename(index= lambda s: s + \" (change %)\")\n",
    "    return dfA    "
   ]
  },
  {
   "cell_type": "code",
   "execution_count": 45,
   "id": "0a2443cd",
   "metadata": {},
   "outputs": [],
   "source": [
    "datframe = pd.DataFrame()\n",
    "for x in range(1,len(df1)):\n",
    "    dataframe = change_calculate(df2,x)\n",
    "    datframe = pd.concat([datframe, dataframe])"
   ]
  },
  {
   "cell_type": "code",
   "execution_count": 46,
   "id": "a5d018ae",
   "metadata": {},
   "outputs": [
    {
     "data": {
      "text/html": [
       "<div>\n",
       "<style scoped>\n",
       "    .dataframe tbody tr th:only-of-type {\n",
       "        vertical-align: middle;\n",
       "    }\n",
       "\n",
       "    .dataframe tbody tr th {\n",
       "        vertical-align: top;\n",
       "    }\n",
       "\n",
       "    .dataframe thead th {\n",
       "        text-align: right;\n",
       "    }\n",
       "</style>\n",
       "<table border=\"1\" class=\"dataframe\">\n",
       "  <thead>\n",
       "    <tr style=\"text-align: right;\">\n",
       "      <th></th>\n",
       "      <th>2019/2020</th>\n",
       "      <th>2020/2021</th>\n",
       "      <th>2021/2022</th>\n",
       "    </tr>\n",
       "  </thead>\n",
       "  <tbody>\n",
       "    <tr>\n",
       "      <th>Financial Assets (Net) (change %)</th>\n",
       "      <td>25.872475</td>\n",
       "      <td>117.404740</td>\n",
       "      <td>18.956406</td>\n",
       "    </tr>\n",
       "    <tr>\n",
       "      <th>Total Assets (change %)</th>\n",
       "      <td>26.218077</td>\n",
       "      <td>57.030357</td>\n",
       "      <td>29.041488</td>\n",
       "    </tr>\n",
       "    <tr>\n",
       "      <th>Derivative Financial Liabilities (change %)</th>\n",
       "      <td>101.357654</td>\n",
       "      <td>57.302425</td>\n",
       "      <td>33.648456</td>\n",
       "    </tr>\n",
       "    <tr>\n",
       "      <th>Equity (change %)</th>\n",
       "      <td>15.464075</td>\n",
       "      <td>26.940535</td>\n",
       "      <td>41.484991</td>\n",
       "    </tr>\n",
       "    <tr>\n",
       "      <th>Total Equity and Liabilities (change %)</th>\n",
       "      <td>26.218077</td>\n",
       "      <td>57.030357</td>\n",
       "      <td>29.041488</td>\n",
       "    </tr>\n",
       "    <tr>\n",
       "      <th>Trading Income or Loss (net) (change %)</th>\n",
       "      <td>138.918597</td>\n",
       "      <td>573.769587</td>\n",
       "      <td>25.335534</td>\n",
       "    </tr>\n",
       "    <tr>\n",
       "      <th>Net Profit (Loss) (change %)</th>\n",
       "      <td>2.303541</td>\n",
       "      <td>104.532461</td>\n",
       "      <td>62.185753</td>\n",
       "    </tr>\n",
       "    <tr>\n",
       "      <th>Total Comprehensive Income (Loss) (change %)</th>\n",
       "      <td>17.362522</td>\n",
       "      <td>106.689581</td>\n",
       "      <td>91.165183</td>\n",
       "    </tr>\n",
       "  </tbody>\n",
       "</table>\n",
       "</div>"
      ],
      "text/plain": [
       "                                               2019/2020   2020/2021  \\\n",
       "Financial Assets (Net) (change %)              25.872475  117.404740   \n",
       "Total Assets (change %)                        26.218077   57.030357   \n",
       "Derivative Financial Liabilities (change %)   101.357654   57.302425   \n",
       "Equity (change %)                              15.464075   26.940535   \n",
       "Total Equity and Liabilities (change %)        26.218077   57.030357   \n",
       "Trading Income or Loss (net) (change %)       138.918597  573.769587   \n",
       "Net Profit (Loss) (change %)                    2.303541  104.532461   \n",
       "Total Comprehensive Income (Loss) (change %)   17.362522  106.689581   \n",
       "\n",
       "                                              2021/2022  \n",
       "Financial Assets (Net) (change %)             18.956406  \n",
       "Total Assets (change %)                       29.041488  \n",
       "Derivative Financial Liabilities (change %)   33.648456  \n",
       "Equity (change %)                             41.484991  \n",
       "Total Equity and Liabilities (change %)       29.041488  \n",
       "Trading Income or Loss (net) (change %)       25.335534  \n",
       "Net Profit (Loss) (change %)                  62.185753  \n",
       "Total Comprehensive Income (Loss) (change %)  91.165183  "
      ]
     },
     "execution_count": 46,
     "metadata": {},
     "output_type": "execute_result"
    }
   ],
   "source": [
    "datframe"
   ]
  },
  {
   "cell_type": "code",
   "execution_count": 47,
   "id": "06c8a348",
   "metadata": {},
   "outputs": [
    {
     "data": {
      "text/plain": [
       "2019/2020    138.918597\n",
       "2020/2021    573.769587\n",
       "2021/2022     91.165183\n",
       "dtype: float64"
      ]
     },
     "execution_count": 47,
     "metadata": {},
     "output_type": "execute_result"
    }
   ],
   "source": [
    "datframe.max()"
   ]
  },
  {
   "cell_type": "code",
   "execution_count": 48,
   "id": "25e2e6cc",
   "metadata": {},
   "outputs": [
    {
     "data": {
      "text/html": [
       "<div>\n",
       "<style scoped>\n",
       "    .dataframe tbody tr th:only-of-type {\n",
       "        vertical-align: middle;\n",
       "    }\n",
       "\n",
       "    .dataframe tbody tr th {\n",
       "        vertical-align: top;\n",
       "    }\n",
       "\n",
       "    .dataframe thead th {\n",
       "        text-align: right;\n",
       "    }\n",
       "</style>\n",
       "<table border=\"1\" class=\"dataframe\">\n",
       "  <thead>\n",
       "    <tr style=\"text-align: right;\">\n",
       "      <th></th>\n",
       "      <th>2019/2020</th>\n",
       "      <th>2020/2021</th>\n",
       "      <th>2021/2022</th>\n",
       "    </tr>\n",
       "  </thead>\n",
       "  <tbody>\n",
       "    <tr>\n",
       "      <th>Trading Income or Loss (net) (change %)</th>\n",
       "      <td>138.918597</td>\n",
       "      <td>573.769587</td>\n",
       "      <td>25.335534</td>\n",
       "    </tr>\n",
       "  </tbody>\n",
       "</table>\n",
       "</div>"
      ],
      "text/plain": [
       "                                          2019/2020   2020/2021  2021/2022\n",
       "Trading Income or Loss (net) (change %)  138.918597  573.769587  25.335534"
      ]
     },
     "execution_count": 48,
     "metadata": {},
     "output_type": "execute_result"
    }
   ],
   "source": [
    "datframe[datframe[\"2019/2020\"]== datframe.max()[0]]"
   ]
  },
  {
   "cell_type": "code",
   "execution_count": 49,
   "id": "50ee7afe",
   "metadata": {},
   "outputs": [
    {
     "data": {
      "text/html": [
       "<div>\n",
       "<style scoped>\n",
       "    .dataframe tbody tr th:only-of-type {\n",
       "        vertical-align: middle;\n",
       "    }\n",
       "\n",
       "    .dataframe tbody tr th {\n",
       "        vertical-align: top;\n",
       "    }\n",
       "\n",
       "    .dataframe thead th {\n",
       "        text-align: right;\n",
       "    }\n",
       "</style>\n",
       "<table border=\"1\" class=\"dataframe\">\n",
       "  <thead>\n",
       "    <tr style=\"text-align: right;\">\n",
       "      <th></th>\n",
       "      <th>2019/2020</th>\n",
       "      <th>2020/2021</th>\n",
       "      <th>2021/2022</th>\n",
       "    </tr>\n",
       "  </thead>\n",
       "  <tbody>\n",
       "    <tr>\n",
       "      <th>Trading Income or Loss (net) (change %)</th>\n",
       "      <td>138.918597</td>\n",
       "      <td>573.769587</td>\n",
       "      <td>25.335534</td>\n",
       "    </tr>\n",
       "  </tbody>\n",
       "</table>\n",
       "</div>"
      ],
      "text/plain": [
       "                                          2019/2020   2020/2021  2021/2022\n",
       "Trading Income or Loss (net) (change %)  138.918597  573.769587  25.335534"
      ]
     },
     "execution_count": 49,
     "metadata": {},
     "output_type": "execute_result"
    }
   ],
   "source": [
    "datframe[datframe[\"2020/2021\"] == datframe.max()[1]]"
   ]
  },
  {
   "cell_type": "code",
   "execution_count": 50,
   "id": "1017abcf",
   "metadata": {},
   "outputs": [
    {
     "data": {
      "text/html": [
       "<div>\n",
       "<style scoped>\n",
       "    .dataframe tbody tr th:only-of-type {\n",
       "        vertical-align: middle;\n",
       "    }\n",
       "\n",
       "    .dataframe tbody tr th {\n",
       "        vertical-align: top;\n",
       "    }\n",
       "\n",
       "    .dataframe thead th {\n",
       "        text-align: right;\n",
       "    }\n",
       "</style>\n",
       "<table border=\"1\" class=\"dataframe\">\n",
       "  <thead>\n",
       "    <tr style=\"text-align: right;\">\n",
       "      <th></th>\n",
       "      <th>2019/2020</th>\n",
       "      <th>2020/2021</th>\n",
       "      <th>2021/2022</th>\n",
       "    </tr>\n",
       "  </thead>\n",
       "  <tbody>\n",
       "    <tr>\n",
       "      <th>Total Comprehensive Income (Loss) (change %)</th>\n",
       "      <td>17.362522</td>\n",
       "      <td>106.689581</td>\n",
       "      <td>91.165183</td>\n",
       "    </tr>\n",
       "  </tbody>\n",
       "</table>\n",
       "</div>"
      ],
      "text/plain": [
       "                                              2019/2020   2020/2021  2021/2022\n",
       "Total Comprehensive Income (Loss) (change %)  17.362522  106.689581  91.165183"
      ]
     },
     "execution_count": 50,
     "metadata": {},
     "output_type": "execute_result"
    }
   ],
   "source": [
    "datframe[datframe[\"2021/2022\"] == datframe.max()[2]]"
   ]
  },
  {
   "cell_type": "code",
   "execution_count": 129,
   "id": "0d370210",
   "metadata": {},
   "outputs": [],
   "source": [
    "data1_1 = datframe[datframe[\"2020/2021\"] == datframe.max()[1]]"
   ]
  },
  {
   "cell_type": "code",
   "execution_count": 151,
   "id": "28dd602c",
   "metadata": {},
   "outputs": [],
   "source": [
    "data1_2 = datframe[datframe[\"2021/2022\"] == datframe.max()[2]]"
   ]
  },
  {
   "cell_type": "code",
   "execution_count": 153,
   "id": "86f57455",
   "metadata": {},
   "outputs": [
    {
     "data": {
      "image/png": "[encoded data removed]",
      "text/plain": [
       "<Figure size 432x288 with 1 Axes>"
      ]
     },
     "metadata": {
      "needs_background": "light"
     },
     "output_type": "display_data"
    }
   ],
   "source": [
    "fig , ax = plt.subplots()\n",
    "y1 = [data1_1.iloc[0][0],data1_1.iloc[0][1],data1_1.iloc[0][2]]\n",
    "x1 = [x for x in data1_1.keys()]\n",
    "\n",
    "y2 = [data1_2.iloc[0][0],data1_2.iloc[0][1],data1_2.iloc[0][2]]\n",
    "x2 = [x for x in data1_2.keys()]\n",
    "\n",
    "plt.plot(x2 ,y2, label= \"Total Comprehensive Income (Loss) (change %)\")\n",
    "plt.plot(x1, y1, label =\"Trading Income or Loss (net) (change %)\")\n",
    "plt.legend()\n",
    "plt.show()"
   ]
  },
  {
   "cell_type": "code",
   "execution_count": null,
   "id": "72c2d9c7",
   "metadata": {},
   "outputs": [],
   "source": []
  }
 ],
 "metadata": {
  "kernelspec": {
   "display_name": "Python 3 (ipykernel)",
   "language": "python",
   "name": "python3"
  },
  "language_info": {
   "codemirror_mode": {
    "name": "ipython",
    "version": 3
   },
   "file_extension": ".py",
   "mimetype": "text/x-python",
   "name": "python",
   "nbconvert_exporter": "python",
   "pygments_lexer": "ipython3",
   "version": "3.9.12"
  }
 },
 "nbformat": 4,
 "nbformat_minor": 5
}
